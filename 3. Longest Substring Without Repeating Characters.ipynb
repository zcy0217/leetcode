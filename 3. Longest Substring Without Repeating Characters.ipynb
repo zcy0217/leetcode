{
 "cells": [
  {
   "cell_type": "markdown",
   "metadata": {},
   "source": [
    "Given a string s, find the length of the longest substring without repeating characters.\n",
    "\n",
    "Example 1:\n",
    "Input: s = \"abcabcbb\"\n",
    "Output: 3\n",
    "Explanation: The answer is \"abc\", with the length of 3.\n",
    "\n",
    "Example 2:\n",
    "Input: s = \"bbbbb\"\n",
    "Output: 1\n",
    "Explanation: The answer is \"b\", with the length of 1.\n",
    "\n",
    "Example 3:\n",
    "Input: s = \"pwwkew\"\n",
    "Output: 3\n",
    "Explanation: The answer is \"wke\", with the length of 3.\n",
    "\n",
    "Notice that the answer must be a substring, \"pwke\" is a subsequence and not a substring."
   ]
  },
  {
   "cell_type": "markdown",
   "metadata": {},
   "source": [
    "# substring和subsequence差別:\n",
    "\n",
    "substring必須是原本字串的連續字串，而subsequence可以不是\n",
    "\n",
    "例如\"pwwkew\" -> substring為\"wke\" subsequence為\"pwke\""
   ]
  },
  {
   "cell_type": "code",
   "execution_count": 62,
   "metadata": {},
   "outputs": [
    {
     "data": {
      "text/plain": [
       "1"
      ]
     },
     "execution_count": 62,
     "metadata": {},
     "output_type": "execute_result"
    }
   ],
   "source": [
    "class Solution:\n",
    "    def lengthOfLongestSubstring(s):\n",
    "        substring = ''\n",
    "        maxlen = 0\n",
    "        for i in s:\n",
    "            if i in substring:\n",
    "                #substring += i\n",
    "                substring = substring[1:]\n",
    "            else:\n",
    "                substring += i\n",
    "                maxlen = max(len(substring),maxlen) #每一次substring的長度都會被記錄\n",
    "        return maxlen\n",
    "lengthOfLongestSubstring(\"aab\")"
   ]
  },
  {
   "cell_type": "code",
   "execution_count": null,
   "metadata": {},
   "outputs": [],
   "source": []
  }
 ],
 "metadata": {
  "kernelspec": {
   "display_name": "Python 3",
   "language": "python",
   "name": "python3"
  },
  "language_info": {
   "codemirror_mode": {
    "name": "ipython",
    "version": 3
   },
   "file_extension": ".py",
   "mimetype": "text/x-python",
   "name": "python",
   "nbconvert_exporter": "python",
   "pygments_lexer": "ipython3",
   "version": "3.8.3"
  }
 },
 "nbformat": 4,
 "nbformat_minor": 4
}
