{
 "cells": [
  {
   "cell_type": "code",
   "execution_count": 10,
   "metadata": {},
   "outputs": [
    {
     "name": "stdout",
     "output_type": "stream",
     "text": [
      "['ad', 'be', 'cf']\n"
     ]
    }
   ],
   "source": [
    "digits = \"23\"\n",
    "num=[' ','','abc','def','ghi','jkl','mno','pqrs','tuv','wxyz']\n",
    "ans=[]\n",
    "k=0\n",
    "for i in range(len(digits)): #digits長度\n",
    "  #print('i=',i)\n",
    "  for j in range(len(num[int(digits[i])])): #digits第i個對應到num的值的長度\n",
    "    #print('j=',j)\n",
    "    if i==0:\n",
    "      ans.append(num[int(digits[i])][j])\n",
    "      #print(ans)\n",
    "    else:\n",
    "      ans[k]=ans[k]+num[int(digits[i])][j]\n",
    "      k+=1\n",
    "print(ans)"
   ]
  },
  {
   "cell_type": "code",
   "execution_count": 3,
   "metadata": {},
   "outputs": [],
   "source": [
    "digits = \"23\"\n",
    "if len(digits) == 0:\n",
    "    print([])"
   ]
  },
  {
   "cell_type": "code",
   "execution_count": null,
   "metadata": {},
   "outputs": [],
   "source": []
  }
 ],
 "metadata": {
  "kernelspec": {
   "display_name": "Python 3",
   "language": "python",
   "name": "python3"
  },
  "language_info": {
   "codemirror_mode": {
    "name": "ipython",
    "version": 3
   },
   "file_extension": ".py",
   "mimetype": "text/x-python",
   "name": "python",
   "nbconvert_exporter": "python",
   "pygments_lexer": "ipython3",
   "version": "3.8.3"
  }
 },
 "nbformat": 4,
 "nbformat_minor": 4
}
