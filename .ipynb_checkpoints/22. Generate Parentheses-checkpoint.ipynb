{
 "cells": [
  {
   "cell_type": "markdown",
   "metadata": {},
   "source": [
    "Given n pairs of parentheses, write a function to generate all combinations of well-formed parentheses.\n",
    "\n",
    "Example 1:\n",
    "Input: n = 3\n",
    "Output: [\"((()))\",\"(()())\",\"(())()\",\"()(())\",\"()()()\"]\n",
    "\n",
    "Example 2:\n",
    "Input: n = 1\n",
    "Output: [\"()\"]"
   ]
  },
  {
   "cell_type": "code",
   "execution_count": 15,
   "metadata": {},
   "outputs": [
    {
     "data": {
      "text/plain": [
       "['((()))', '(()())', '(())()', '()(())', '()()()']"
      ]
     },
     "execution_count": 15,
     "metadata": {},
     "output_type": "execute_result"
    }
   ],
   "source": [
    "def generateParenthesis(n):  \n",
    "    ans = []  \n",
    "    generate(n,n,'',ans)  \n",
    "    return ans  \n",
    "\n",
    "def generate(left, right, str, ans):  \n",
    "    if left == right == 0:  #沒有括弧\n",
    "        ans.append(str) \n",
    "        return  \n",
    "    if left > 0:  #如果左括號還有剩餘，則可以放置左括號，如果右括號的剩餘數大於左括號，則可以放置右括號\n",
    "        generate(left - 1, right, str + '(', ans)  \n",
    "        #print('1',ans)\n",
    "        #print('1.1',str)\n",
    "    if right > left:  \n",
    "        generate(left, right - 1, str + ')', ans)\n",
    "        #print('2',ans)\n",
    "        #print('2.1',str)\n",
    "    #print('3',ans)\n",
    "    #print('3.1',str)\n",
    "generateParenthesis(3)"
   ]
  },
  {
   "cell_type": "code",
   "execution_count": null,
   "metadata": {},
   "outputs": [],
   "source": []
  }
 ],
 "metadata": {
  "kernelspec": {
   "display_name": "Python 3",
   "language": "python",
   "name": "python3"
  },
  "language_info": {
   "codemirror_mode": {
    "name": "ipython",
    "version": 3
   },
   "file_extension": ".py",
   "mimetype": "text/x-python",
   "name": "python",
   "nbconvert_exporter": "python",
   "pygments_lexer": "ipython3",
   "version": "3.8.3"
  }
 },
 "nbformat": 4,
 "nbformat_minor": 4
}
