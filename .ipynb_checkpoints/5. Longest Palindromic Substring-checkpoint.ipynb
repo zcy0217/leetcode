{
 "cells": [
  {
   "cell_type": "markdown",
   "metadata": {},
   "source": [
    "Given a string s, return the longest palindromic substring in s.\n",
    "\n",
    "Example 1:\n",
    "Input: s = \"babad\"\n",
    "Output: \"bab\"\n",
    "Explanation: \"aba\" is also a valid answer.\n",
    "\n",
    "Example 2:\n",
    "Input: s = \"cbbd\"\n",
    "Output: \"bb\"\n",
    "\n",
    "找最長回文字串 頭和尾相同\n",
    "substring必須是原本字串的連續字串"
   ]
  },
  {
   "cell_type": "code",
   "execution_count": 83,
   "metadata": {},
   "outputs": [
    {
     "data": {
      "text/plain": [
       "'c'"
      ]
     },
     "execution_count": 83,
     "metadata": {},
     "output_type": "execute_result"
    }
   ],
   "source": [
    "def longestPalindrome(s):\n",
    "    if len(s) <= 1:\n",
    "        return s\n",
    "    else:\n",
    "        Palindrome = ''\n",
    "        ans=[]\n",
    "        for i in s:\n",
    "            if i in Palindrome:\n",
    "                Palindrome += i\n",
    "                if Palindrome==Palindrome[::-1]:\n",
    "                    ans.append(Palindrome)\n",
    "                else:\n",
    "                    Palindrome = Palindrome[1:]\n",
    "                    if Palindrome==Palindrome[::-1]:\n",
    "                        ans.append(Palindrome)\n",
    "                    else:\n",
    "                        continue\n",
    "            else:\n",
    "                Palindrome += i\n",
    "        if ans==[]:\n",
    "            return s[0]\n",
    "        else:\n",
    "            return ans.pop()\n",
    "longestPalindrome(\"cb\")"
   ]
  },
  {
   "cell_type": "code",
   "execution_count": null,
   "metadata": {},
   "outputs": [],
   "source": []
  },
  {
   "cell_type": "code",
   "execution_count": null,
   "metadata": {},
   "outputs": [],
   "source": []
  }
 ],
 "metadata": {
  "kernelspec": {
   "display_name": "Python 3",
   "language": "python",
   "name": "python3"
  },
  "language_info": {
   "codemirror_mode": {
    "name": "ipython",
    "version": 3
   },
   "file_extension": ".py",
   "mimetype": "text/x-python",
   "name": "python",
   "nbconvert_exporter": "python",
   "pygments_lexer": "ipython3",
   "version": "3.8.3"
  }
 },
 "nbformat": 4,
 "nbformat_minor": 4
}
