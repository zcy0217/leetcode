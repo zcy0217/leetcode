{
 "cells": [
  {
   "cell_type": "markdown",
   "metadata": {},
   "source": [
    "Given a string containing digits from 2-9 inclusive, return all possible letter combinations that the number could represent. Return the answer in any order.\n",
    "\n",
    "A mapping of digit to letters (just like on the telephone buttons) is given below. Note that 1 does not map to any letters.\n",
    "\n",
    "Example 1:\n",
    "Input: digits = \"23\"\n",
    "Output: [\"ad\",\"ae\",\"af\",\"bd\",\"be\",\"bf\",\"cd\",\"ce\",\"cf\"]\n",
    "\n",
    "Example 2:\n",
    "Input: digits = \"\"\n",
    "Output: []\n",
    "\n",
    "Example 3:\n",
    "Input: digits = \"2\"\n",
    "Output: [\"a\",\"b\",\"c\"]"
   ]
  },
  {
   "attachments": {
    "17.png": {
     "image/png": "[encoded data removed]"
    }
   },
   "cell_type": "markdown",
   "metadata": {},
   "source": [
    "![17.png](attachment:17.png) "
   ]
  },
  {
   "cell_type": "code",
   "execution_count": 8,
   "metadata": {},
   "outputs": [
    {
     "data": {
      "text/plain": [
       "['ad', 'ae', 'af', 'bd', 'be', 'bf', 'cd', 'ce', 'cf']"
      ]
     },
     "execution_count": 8,
     "metadata": {},
     "output_type": "execute_result"
    }
   ],
   "source": [
    "def letterCombinations(digits):\n",
    "    from itertools import product\n",
    "    ans=[]\n",
    "    num={\"2\":\"abc\",\"3\":\"def\",\"4\":\"ghi\",\"5\":\"jkl\",\"6\":\"mno\",\"7\":\"pqrs\",\"8\":\"tuv\",\"9\":\"wxyz\"}\n",
    "    values = [num[i] for i in digits]\n",
    "    if digits == \"\":\n",
    "        return []\n",
    "    else:\n",
    "        for j in product(* values):\n",
    "            ans.append(''.join(j))\n",
    "    return ans\n",
    "letterCombinations('23')"
   ]
  },
  {
   "cell_type": "code",
   "execution_count": 29,
   "metadata": {},
   "outputs": [
    {
     "name": "stdout",
     "output_type": "stream",
     "text": [
      "values =  ['abc', 'def']\n",
      "['ad', 'ae', 'af', 'bd', 'be', 'bf', 'cd', 'ce', 'cf']\n"
     ]
    }
   ],
   "source": [
    "digits = \"23\"\n",
    "from itertools import product\n",
    "ans=[]\n",
    "num={\"2\":\"abc\",\"3\":\"def\",\"4\":\"ghi\",\"5\":\"jkl\",\"6\":\"mno\",\"7\":\"pqrs\",\"8\":\"tuv\",\"9\":\"wxyz\"}\n",
    "values = [num[i] for i in digits] #digits=\"23\" -> num[0]=abc & num[1]=def\n",
    "print('values = ',values)\n",
    "if digits == \"\":\n",
    "    print([])\n",
    "else:\n",
    "    for j in product(* values,repeat=1):\n",
    "        ans.append(''.join(j)) #不用join會變[('a','b'),...]\n",
    "        #print(ans)\n",
    "print(ans)"
   ]
  }
 ],
 "metadata": {
  "kernelspec": {
   "display_name": "Python 3",
   "language": "python",
   "name": "python3"
  },
  "language_info": {
   "codemirror_mode": {
    "name": "ipython",
    "version": 3
   },
   "file_extension": ".py",
   "mimetype": "text/x-python",
   "name": "python",
   "nbconvert_exporter": "python",
   "pygments_lexer": "ipython3",
   "version": "3.8.3"
  }
 },
 "nbformat": 4,
 "nbformat_minor": 4
}
