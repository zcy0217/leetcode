{
 "cells": [
  {
   "cell_type": "code",
   "execution_count": 105,
   "metadata": {},
   "outputs": [],
   "source": [
    "def longestArithSeqLength(nums):\n",
    "    a=[]\n",
    "    b=[]\n",
    "    c=[]\n",
    "    for i in range(len(nums)):\n",
    "        for j in range(i+1,len(nums)):\n",
    "            a.append(nums[i])\n",
    "            a.append(nums[j])\n",
    "            b.append(abs(nums[i]-nums[j]))\n",
    "            b.append(abs(nums[i]-nums[j]))\n",
    "    print(a)\n",
    "    print(b)\n",
    "    countmax=b.count(max(b,key=b.count))\n",
    "    countmaxnum=max(b,key=b.count)\n",
    "    print(countmax)\n",
    "    print(countmaxnum)\n",
    "    for i in range(len(b)):\n",
    "        if countmaxnum==b[i]:\n",
    "            if a[i]%countmaxnum==0:\n",
    "                c.append(a[i])\n",
    "    return len(set(c))"
   ]
  },
  {
   "cell_type": "code",
   "execution_count": 102,
   "metadata": {},
   "outputs": [
    {
     "name": "stdout",
     "output_type": "stream",
     "text": [
      "[20, 1, 20, 15, 20, 3, 20, 10, 20, 5, 20, 8, 1, 15, 1, 3, 1, 10, 1, 5, 1, 8, 15, 3, 15, 10, 15, 5, 15, 8, 3, 10, 3, 5, 3, 8, 10, 5, 10, 8, 5, 8]\n",
      "[19, 19, 5, 5, 17, 17, 10, 10, 15, 15, 12, 12, 14, 14, 2, 2, 9, 9, 4, 4, 7, 7, 12, 12, 5, 5, 10, 10, 7, 7, 7, 7, 2, 2, 5, 5, 5, 5, 2, 2, 3, 3]\n"
     ]
    },
    {
     "data": {
      "text/plain": [
       "4"
      ]
     },
     "execution_count": 102,
     "metadata": {},
     "output_type": "execute_result"
    }
   ],
   "source": [
    "longestArithSeqLength([20,1,15,3,10,5,8])"
   ]
  },
  {
   "cell_type": "code",
   "execution_count": 103,
   "metadata": {},
   "outputs": [
    {
     "name": "stdout",
     "output_type": "stream",
     "text": [
      "[3, 6, 3, 9, 3, 12, 6, 9, 6, 12, 9, 12]\n",
      "[3, 3, 6, 6, 9, 9, 3, 3, 6, 6, 3, 3]\n"
     ]
    },
    {
     "data": {
      "text/plain": [
       "4"
      ]
     },
     "execution_count": 103,
     "metadata": {},
     "output_type": "execute_result"
    }
   ],
   "source": [
    "longestArithSeqLength([3,6,9,12])"
   ]
  },
  {
   "cell_type": "code",
   "execution_count": 106,
   "metadata": {},
   "outputs": [
    {
     "name": "stdout",
     "output_type": "stream",
     "text": [
      "[9, 4, 9, 7, 9, 2, 9, 10, 4, 7, 4, 2, 4, 10, 7, 2, 7, 10, 2, 10]\n",
      "[5, 5, 2, 2, 7, 7, 1, 1, 3, 3, 2, 2, 6, 6, 5, 5, 3, 3, 8, 8]\n",
      "4\n",
      "5\n"
     ]
    },
    {
     "data": {
      "text/plain": [
       "0"
      ]
     },
     "execution_count": 106,
     "metadata": {},
     "output_type": "execute_result"
    }
   ],
   "source": [
    "longestArithSeqLength([9,4,7,2,10])"
   ]
  },
  {
   "cell_type": "code",
   "execution_count": 83,
   "metadata": {},
   "outputs": [],
   "source": [
    "def longestArithSeqLength(nums):\n",
    "    a=[]\n",
    "    for i in range(len(nums)):\n",
    "        for j in range(i+1,len(nums)):\n",
    "            a.append(abs(nums[i]-nums[j]))\n",
    "    print(a)\n",
    "    return a.count(max(a,key=a.count))"
   ]
  },
  {
   "cell_type": "code",
   "execution_count": null,
   "metadata": {},
   "outputs": [],
   "source": []
  }
 ],
 "metadata": {
  "kernelspec": {
   "display_name": "Python 3",
   "language": "python",
   "name": "python3"
  },
  "language_info": {
   "codemirror_mode": {
    "name": "ipython",
    "version": 3
   },
   "file_extension": ".py",
   "mimetype": "text/x-python",
   "name": "python",
   "nbconvert_exporter": "python",
   "pygments_lexer": "ipython3",
   "version": "3.8.3"
  }
 },
 "nbformat": 4,
 "nbformat_minor": 4
}
