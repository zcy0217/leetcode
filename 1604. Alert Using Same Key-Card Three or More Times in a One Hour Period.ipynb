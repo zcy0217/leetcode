{
 "cells": [
  {
   "cell_type": "code",
   "execution_count": 167,
   "metadata": {},
   "outputs": [],
   "source": [
    "def alertNames(keyName,keyTime):\n",
    "    zipped=zip(keyName,keyTime)\n",
    "    a=list(zipped)\n",
    "    \n",
    "    def time(a,b):\n",
    "        split_a=a.split(':')\n",
    "        split_b=b.split(':')\n",
    "        if abs((60*int(split_a[0])+int(split_a[1]))-(60*int(split_b[0])+int(split_b[1])))<=60:\n",
    "            return True\n",
    "        \n",
    "    def tomorrow(c,d):\n",
    "        split_c=c.split(':')\n",
    "        split_d=d.split(':')    \n",
    "        if (60*int(split_c[0])+int(split_c[1]))>1380>(60*int(split_d[0])+int(split_d[1])):\n",
    "            return True\n",
    "    ansName=[]\n",
    "        \n",
    "    for i in range(len(keyName)): #名字\n",
    "        for j in range(len(keyName)): #時間\n",
    "            print(i,j)\n",
    "            if keyName[i]==keyName[i+1] and (time(keyTime[j],keyTime[j+1]) or tomorrow(keyTime[j],keyTime[j+1])): \n",
    "                if keyName[j+1]==keyName[j+2] and tomorrow(keyTime[j+1],keyTime[j+2]):\n",
    "                    pass\n",
    "                elif keyName[j+1]==keyName[j+2] and time(keyTime[j+1],keyTime[j+2]):\n",
    "                    ansName.append(keyName[j])\n",
    "                print(a)\n",
    "            return ansName"
   ]
  },
  {
   "cell_type": "code",
   "execution_count": 168,
   "metadata": {},
   "outputs": [
    {
     "name": "stdout",
     "output_type": "stream",
     "text": [
      "0 0\n",
      "[('leslie', '13:00'), ('leslie', '13:20'), ('leslie', '14:00'), ('clare', '18:00'), ('clare', '18:51'), ('clare', '19:30'), ('clare', '19:49')]\n"
     ]
    },
    {
     "data": {
      "text/plain": [
       "['leslie']"
      ]
     },
     "execution_count": 168,
     "metadata": {},
     "output_type": "execute_result"
    }
   ],
   "source": [
    "alertNames([\"leslie\",\"leslie\",\"leslie\",\"clare\",\"clare\",\"clare\",\"clare\"],[\"13:00\",\"13:20\",\"14:00\",\"18:00\",\"18:51\",\"19:30\",\"19:49\"])"
   ]
  },
  {
   "cell_type": "code",
   "execution_count": 169,
   "metadata": {},
   "outputs": [
    {
     "name": "stdout",
     "output_type": "stream",
     "text": [
      "0 0\n",
      "[('john', '23:58'), ('john', '23:59'), ('john', '00:01')]\n"
     ]
    },
    {
     "data": {
      "text/plain": [
       "[]"
      ]
     },
     "execution_count": 169,
     "metadata": {},
     "output_type": "execute_result"
    }
   ],
   "source": [
    "alertNames([\"john\",\"john\",\"john\"],[\"23:58\",\"23:59\",\"00:01\"])"
   ]
  },
  {
   "cell_type": "code",
   "execution_count": 170,
   "metadata": {},
   "outputs": [
    {
     "name": "stdout",
     "output_type": "stream",
     "text": [
      "0 0\n",
      "[('daniel', '10:00'), ('daniel', '10:40'), ('daniel', '11:00'), ('luis', '09:00'), ('luis', '11:00'), ('luis', '13:00'), ('luis', '15:00')]\n"
     ]
    },
    {
     "data": {
      "text/plain": [
       "['daniel']"
      ]
     },
     "execution_count": 170,
     "metadata": {},
     "output_type": "execute_result"
    }
   ],
   "source": [
    "alertNames([\"daniel\",\"daniel\",\"daniel\",\"luis\",\"luis\",\"luis\",\"luis\"],[\"10:00\",\"10:40\",\"11:00\",\"09:00\",\"11:00\",\"13:00\",\"15:00\"])"
   ]
  },
  {
   "cell_type": "code",
   "execution_count": null,
   "metadata": {},
   "outputs": [],
   "source": []
  }
 ],
 "metadata": {
  "kernelspec": {
   "display_name": "Python 3",
   "language": "python",
   "name": "python3"
  },
  "language_info": {
   "codemirror_mode": {
    "name": "ipython",
    "version": 3
   },
   "file_extension": ".py",
   "mimetype": "text/x-python",
   "name": "python",
   "nbconvert_exporter": "python",
   "pygments_lexer": "ipython3",
   "version": "3.8.3"
  }
 },
 "nbformat": 4,
 "nbformat_minor": 4
}
